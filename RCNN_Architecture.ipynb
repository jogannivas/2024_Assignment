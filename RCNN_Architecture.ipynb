{
  "nbformat": 4,
  "nbformat_minor": 0,
  "metadata": {
    "colab": {
      "provenance": []
    },
    "kernelspec": {
      "name": "python3",
      "display_name": "Python 3"
    },
    "language_info": {
      "name": "python"
    }
  },
  "cells": [
    {
      "cell_type": "markdown",
      "source": [
        "Q1.What are the ojectives using Selective Search in R-CSSP ?\n",
        "\n",
        "Ans:= Selective Search is a region proposal algorithm for object detection tasks. It starts by over-segmenting the image based on intensity of the pixels using a graph-based segmentation method by Felzenszwalb and Huttenlocher. Selective Search then takes these oversegments as initial input and performs the following steps."
      ],
      "metadata": {
        "id": "zCsdA4kIsnAo"
      }
    },
    {
      "cell_type": "markdown",
      "source": [
        "Q2.\n",
        "\n",
        "Ans:= 01>>\n",
        "Towards Real-Time Object Detection with Region Proposal Networks. A Region Proposal Network, or RPN, is a fully convolutional network that simultaneously predicts object bounds and objectness scores at each position.\n",
        "\n",
        "02>>If we have a high resolution and low number of detected objects then resize and if high resolution snd high number of objects detected then crop. In terms of resizing & cropping if the images are being detected & outlined with a box you can use the coordinate of the box to crop & or resize.\n",
        "\n"
      ],
      "metadata": {
        "id": "BL9zKCf4snDV"
      }
    },
    {
      "cell_type": "markdown",
      "source": [
        "Q3.What are the pssixle pre trained CSSs we can use in Pre trained CSS architecture?\n",
        "\n",
        "Ans:=Many pre-trained models for deep learning are based on ImageNet, such as ResNet, VGG, Inception, and MobileNet. These models can extract high-level features from images, and can be used for tasks like image classification, object detection, face recognition, and more.\n"
      ],
      "metadata": {
        "id": "CJWljUhAsnGM"
      }
    },
    {
      "cell_type": "markdown",
      "source": [
        "Q4. How is SVl implemented in the R-CSS framework ?\n",
        "\n",
        "Ans:= Create a new classifier. ...\n",
        "\n",
        "Select how you want to classify your data. ...\n",
        "\n",
        "Import your training data. ...\n",
        "\n",
        "Define the tags for your SVM classifier. ...\n",
        "\n",
        "Tag data to train your classifier. ...\n",
        "\n",
        "Set your algorithm to SVM. ...\n",
        "\n",
        "Test Your Classifier. ...\n",
        "\n",
        "Integrate the topic classifier.\n"
      ],
      "metadata": {
        "id": "7QQCebIQsnI3"
      }
    },
    {
      "cell_type": "markdown",
      "source": [
        "Q6.\n",
        "\n",
        "Faster R-CNN, introduced by Shaoqing Ren et al. in 2015, is an improvement over Fast R-CNN that further reduces the computational cost of object detection. It achieves this by using a single CNN to generate both the ROIs and the features for each ROI, rather than using a separate CNN for each task, as in Fast R-CNN.\n"
      ],
      "metadata": {
        "id": "I7fs1rcosnTj"
      }
    },
    {
      "cell_type": "markdown",
      "source": [
        "Q8.Return on investment (ROI) is a financial planning strategy for determining the value of a project to predict how it may perform. Accurately calculating ROI can help organizations make the right investments, which can lead to larger profit margins.\n",
        "\n",
        "Region of Interest Pooling, or RoIPool, is an operation for extracting a small feature map from each RoI in detection and segmentation based tasks. Features are extracted from each candidate box, and thereafter in models like Fast R-CNN, are then classified and bounding box regression performed."
      ],
      "metadata": {
        "id": "aRITp553vMKY"
      }
    },
    {
      "cell_type": "markdown",
      "source": [
        "Q11. An anchor is a concept that allows applications to specify poses, a position and orientation in three dimensional space, that will be tracked by the underlying system. There are systems where pose tracking is based on their understanding of the world.\n",
        "\n"
      ],
      "metadata": {
        "id": "zQKgGa1SvMNI"
      }
    },
    {
      "cell_type": "markdown",
      "source": [],
      "metadata": {
        "id": "BEYxxm5gvMPm"
      }
    },
    {
      "cell_type": "markdown",
      "source": [],
      "metadata": {
        "id": "53UlgxJ3vMSh"
      }
    }
  ]
}